{
 "cells": [
  {
   "cell_type": "code",
   "execution_count": 1,
   "id": "3087f24d",
   "metadata": {},
   "outputs": [
    {
     "name": "stdout",
     "output_type": "stream",
     "text": [
      "Collecting obsws-python\n",
      "  Downloading obsws_python-1.8.0-py3-none-any.whl.metadata (5.6 kB)\n",
      "Requirement already satisfied: websocket-client in c:\\users\\jalynn\\anaconda3\\lib\\site-packages (from obsws-python) (1.8.0)\n",
      "Downloading obsws_python-1.8.0-py3-none-any.whl (30 kB)\n",
      "Installing collected packages: obsws-python\n",
      "Successfully installed obsws-python-1.8.0\n"
     ]
    }
   ],
   "source": [
    "!python -m pip install obsws-python\n"
   ]
  },
  {
   "cell_type": "code",
   "execution_count": 2,
   "id": "9fa55b89",
   "metadata": {},
   "outputs": [
    {
     "name": "stdout",
     "output_type": "stream",
     "text": [
      "[AIR COMPUTER] Recording started.\n"
     ]
    }
   ],
   "source": [
    "import time\n",
    "from threading import Thread, Barrier\n",
    "import obsws_python as obs\n",
    "\n",
    "TARGETS = [ \n",
    "    # IP address, the websocket port, obs websocket password, name for printing messages\n",
    "    {\"host\": \"10.0.0.137\", \"port\": 4455, \"password\": \"GARN_air\", \"name\": \"AIR COMPUTER\"},\n",
    "    # {\"host\": \"192.168.0.141\", \"port\": 4455, \"password\": \"GARN_air\", \"name\": \"AIR COMPUTER\"},\n",
    "    # {\"host\": \"192.168.0.142\", \"port\": 4455, \"password\": \"GARN_ground\", \"name\": \"GROUND COMPUTER\"},\n",
    "]\n",
    "\n",
    "def start_record_job(tgt, go_barrier):\n",
    "    # Requests client connection to OBS\n",
    "    cl = obs.ReqClient(host=tgt[\"host\"], port=tgt[\"port\"], password=tgt[\"password\"], timeout=3)\n",
    "    \n",
    "    # Asks OBS whether recording is already active\n",
    "    try:\n",
    "        status = cl.get_record_status()\n",
    "        if getattr(status, \"output_active\", False):\n",
    "            print(f'[{tgt[\"name\"]}] Already recording.')\n",
    "            return\n",
    "        \n",
    "        # The following ensures all OBS recordings start simultaneously\n",
    "        go_barrier.wait()\n",
    "        cl.start_record()\n",
    "        \n",
    "        # Wait for OBS to let OBS update its state\n",
    "        time.sleep(0.2)\n",
    "        \n",
    "        # Asks again for status\n",
    "        confirm = cl.get_record_status()\n",
    "        if getattr(confirm, \"output_active\", False):\n",
    "            print(f'[{tgt[\"name\"]}] Recording started.')\n",
    "        else:\n",
    "            print(f'[{tgt[\"name\"]}] Failed to start recording.')\n",
    "            \n",
    "    # error prints if anything goes wrong\n",
    "    except Exception as e:\n",
    "        print(f'[{tgt[\"name\"]}] ERROR: {e}')\n",
    "\n",
    "def main():\n",
    "    # Early exit if no OBS instances\n",
    "    if not TARGETS:\n",
    "        print(\"No targets configured.\")\n",
    "        return\n",
    "    \n",
    "    # Threads wait for all OBS instances on the network\n",
    "    barrier = Barrier(len(TARGETS))\n",
    "    \n",
    "    # Creates on thread per OBS computer & starts recording\n",
    "    threads = [Thread(target=start_record_job, args=(t, barrier), daemon=True) for t in TARGETS]\n",
    "    \n",
    "    # Start all threads\n",
    "    for th in threads: th.start()\n",
    "    for th in threads: th.join()\n",
    "\n",
    "main()"
   ]
  }
 ],
 "metadata": {
  "kernelspec": {
   "display_name": "base",
   "language": "python",
   "name": "python3"
  },
  "language_info": {
   "codemirror_mode": {
    "name": "ipython",
    "version": 3
   },
   "file_extension": ".py",
   "mimetype": "text/x-python",
   "name": "python",
   "nbconvert_exporter": "python",
   "pygments_lexer": "ipython3",
   "version": "3.12.7"
  }
 },
 "nbformat": 4,
 "nbformat_minor": 5
}
